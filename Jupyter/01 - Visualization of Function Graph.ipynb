{
 "cells": [
  {
   "cell_type": "markdown",
   "id": "8ad76e85",
   "metadata": {},
   "source": [
    "# Practice Task 1"
   ]
  },
  {
   "cell_type": "markdown",
   "id": "421c81df",
   "metadata": {},
   "source": [
    "## Task Statement"
   ]
  },
  {
   "cell_type": "markdown",
   "id": "fc8c2bea",
   "metadata": {},
   "source": [
    "The task to visualize graph of the function using MS Excel and Python (Jupyter Notebook is a recommended):"
   ]
  },
  {
   "cell_type": "markdown",
   "id": "b93bfc37",
   "metadata": {},
   "source": [
    "The task is to find roots of the following non-linear equation:"
   ]
  },
  {
   "cell_type": "markdown",
   "id": "97fd75b9",
   "metadata": {},
   "source": [
    "$$\n",
    "f(x) = ln(1 + x), x\\in[1, 3]\n",
    "$$"
   ]
  },
  {
   "cell_type": "markdown",
   "id": "23700fd4",
   "metadata": {},
   "source": [
    "## Solution"
   ]
  },
  {
   "cell_type": "markdown",
   "id": "73899593",
   "metadata": {},
   "source": [
    "Before visualizing the function graph, we generate series of its values for the specified range:"
   ]
  },
  {
   "cell_type": "code",
   "execution_count": 3,
   "id": "4fa2aeb7",
   "metadata": {},
   "outputs": [
    {
     "name": "stdout",
     "output_type": "stream",
     "text": [
      "[1.0; 0.69315]\n",
      "[1.2; 0.78846]\n",
      "[1.4; 0.87547]\n",
      "[1.6; 0.95551]\n",
      "[1.8; 1.02962]\n",
      "[2.0; 1.09861]\n",
      "[2.2; 1.16315]\n",
      "[2.4; 1.22378]\n",
      "[2.6; 1.28093]\n",
      "[2.8; 1.33500]\n",
      "[3.0; 1.38629]\n"
     ]
    }
   ],
   "source": [
    "import math\n",
    "\n",
    "x = 1\n",
    "for i in range(11):\n",
    "    y = math.log(1 + x)\n",
    "    print(\"[{:.1f}; {:.5f}]\".format(x, y))\n",
    "    x += 0.2"
   ]
  },
  {
   "cell_type": "markdown",
   "id": "1035ba61",
   "metadata": {},
   "source": [
    "Now, let's visualize the function graph using the `plot()` function from matplotlib:"
   ]
  },
  {
   "cell_type": "code",
   "execution_count": 14,
   "id": "7aa6d8ec",
   "metadata": {},
   "outputs": [
    {
     "data": {
      "image/png": "[encoded data removed]",
      "text/plain": [
       "<Figure size 432x288 with 1 Axes>"
      ]
     },
     "metadata": {
      "needs_background": "light"
     },
     "output_type": "display_data"
    }
   ],
   "source": [
    "import matplotlib.pyplot as plt\n",
    "\n",
    "# Creating an array of X value for the range [1, 3] with step 0.2\n",
    "xi = 1\n",
    "x = []\n",
    "for i in range(11):\n",
    "    x.append(xi)\n",
    "    xi += 0.2\n",
    "    \n",
    "# Creating an array of Y values \n",
    "y = []\n",
    "for xii in x:\n",
    "    yi = math.log(1 + xii)\n",
    "    y.append(yi)\n",
    "    #print(\"[{:.1f}; {:.5f}]\".format(xii, yi))\n",
    "    \n",
    "\n",
    "# plot the function\n",
    "plt.plot(x, y, 'r')\n",
    "\n",
    "# show the plot\n",
    "plt.show()    "
   ]
  }
 ],
 "metadata": {
  "kernelspec": {
   "display_name": "Python 3",
   "language": "python",
   "name": "python3"
  },
  "language_info": {
   "codemirror_mode": {
    "name": "ipython",
    "version": 3
   },
   "file_extension": ".py",
   "mimetype": "text/x-python",
   "name": "python",
   "nbconvert_exporter": "python",
   "pygments_lexer": "ipython3",
   "version": "3.8.8"
  },
  "toc": {
   "base_numbering": 1,
   "nav_menu": {},
   "number_sections": true,
   "sideBar": true,
   "skip_h1_title": false,
   "title_cell": "Table of Contents",
   "title_sidebar": "Contents",
   "toc_cell": false,
   "toc_position": {},
   "toc_section_display": true,
   "toc_window_display": false
  }
 },
 "nbformat": 4,
 "nbformat_minor": 5
}
