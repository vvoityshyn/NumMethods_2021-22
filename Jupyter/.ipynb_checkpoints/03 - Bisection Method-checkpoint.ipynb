{
 "cells": [
  {
   "cell_type": "markdown",
   "id": "24868431",
   "metadata": {},
   "source": [
    "# Bisection Method"
   ]
  },
  {
   "cell_type": "markdown",
   "id": "072575cf",
   "metadata": {},
   "source": [
    "## Idea of the Bisection Method"
   ]
  },
  {
   "cell_type": "markdown",
   "id": "1c5c0120",
   "metadata": {},
   "source": [
    "Let $f=f(x)$ is a function continuous on the interval $[a, b]$. Suppose we know that $f(a) \\cdot f(b) < 0$. Since $f=f(x)$ is continuous, it has to be a point $\\alpha \\in [a, b]$ that $f(\\alpha) = 0$."
   ]
  },
  {
   "cell_type": "markdown",
   "id": "60b713e2",
   "metadata": {},
   "source": [
    "For example, the function $f(x) = x - e^{-x^2}$ is continuous on the interval $[-1, 1]$. The function has the following values on the ends of the interval:"
   ]
  },
  {
   "cell_type": "code",
   "execution_count": 17,
   "id": "1a42674b",
   "metadata": {},
   "outputs": [
    {
     "name": "stdout",
     "output_type": "stream",
     "text": [
      "f(-1) = -1.36787944\n",
      "f(1) = 0.63212056\n"
     ]
    }
   ],
   "source": [
    "a = -1\n",
    "y1 = a - np.exp(-np.power(a, 2))\n",
    "\n",
    "b = 1\n",
    "y2 = b - np.exp(-np.power(b, 2))\n",
    "\n",
    "print(\"f({:.0f}) = {:.8f}\".format(a, y1))\n",
    "print(\"f({:.0f}) = {:.8f}\".format(b, y2))"
   ]
  },
  {
   "cell_type": "markdown",
   "id": "4247692d",
   "metadata": {},
   "source": [
    "Since $f(-1) \\cdot f(1) < 0$, we can conclude that the function has a root on the interval $[-1, 1]$.<br>"
   ]
  },
  {
   "cell_type": "code",
   "execution_count": 13,
   "id": "74097dfa",
   "metadata": {},
   "outputs": [
    {
     "data": {
      "image/png": "[encoded data removed]",
      "text/plain": [
       "<Figure size 432x288 with 1 Axes>"
      ]
     },
     "metadata": {
      "needs_background": "light"
     },
     "output_type": "display_data"
    }
   ],
   "source": [
    "import numpy as np\n",
    "import matplotlib.pyplot as plt\n",
    "\n",
    "\n",
    "# generate an array of values\n",
    "# of the independent variable\n",
    "x = np.linspace(-1.5, 1.5, 100)\n",
    "\n",
    "# plot the function\n",
    "plt.plot(x, x - np.exp(-np.power(x, 2)))    \n",
    "    \n",
    "    \n",
    "ax = plt.gca()\n",
    "\n",
    "# Move left y-axis and bottim x-axis to centre, passing through (0,0)\n",
    "ax.spines['left'].set_position('zero')\n",
    "ax.spines['bottom'].set_position('zero')\n",
    "\n",
    "# Eliminate upper and right axes\n",
    "ax.spines['right'].set_color('none')\n",
    "ax.spines['top'].set_color('none')    \n",
    "    \n",
    "#ax.grid(True)\n",
    "\n",
    "# set range of the horizontal axis\n",
    "plt.xlim([-1.5, 1.5])    \n",
    "# set range of the vertical axis\n",
    "# plt.ylim([-10, 3])    \n",
    "\n",
    "# show the plot\n",
    "plt.show()"
   ]
  },
  {
   "cell_type": "markdown",
   "id": "e73758f0",
   "metadata": {},
   "source": [
    "It is worth noting that for a function $f=f(x)$ continuous on the interval $[a, b]$ the following statements are true:\n",
    "1. If $f(a) \\cdot f(b) < 0$ then there are one or more roots on the interval $[a, b]$.\n",
    "2. From $f(a) \\cdot f(b) > 0$, it does not imply that the function does not have roots on the interval $[a, b]$.  "
   ]
  },
  {
   "cell_type": "markdown",
   "id": "56566a82",
   "metadata": {},
   "source": [
    "## Algorithm of the Bisection Method"
   ]
  },
  {
   "cell_type": "code",
   "execution_count": null,
   "id": "fe605e85",
   "metadata": {},
   "outputs": [],
   "source": []
  },
  {
   "cell_type": "code",
   "execution_count": null,
   "id": "d27e10ee",
   "metadata": {},
   "outputs": [],
   "source": []
  },
  {
   "cell_type": "markdown",
   "id": "1e20d7c4",
   "metadata": {},
   "source": [
    "## Example of Usage the Bisection Method"
   ]
  },
  {
   "cell_type": "code",
   "execution_count": null,
   "id": "99f850df",
   "metadata": {},
   "outputs": [],
   "source": []
  },
  {
   "cell_type": "code",
   "execution_count": null,
   "id": "38083f17",
   "metadata": {},
   "outputs": [],
   "source": []
  }
 ],
 "metadata": {
  "kernelspec": {
   "display_name": "Python 3",
   "language": "python",
   "name": "python3"
  },
  "language_info": {
   "codemirror_mode": {
    "name": "ipython",
    "version": 3
   },
   "file_extension": ".py",
   "mimetype": "text/x-python",
   "name": "python",
   "nbconvert_exporter": "python",
   "pygments_lexer": "ipython3",
   "version": "3.8.8"
  },
  "toc": {
   "base_numbering": 1,
   "nav_menu": {},
   "number_sections": true,
   "sideBar": true,
   "skip_h1_title": false,
   "title_cell": "Table of Contents",
   "title_sidebar": "Contents",
   "toc_cell": false,
   "toc_position": {},
   "toc_section_display": true,
   "toc_window_display": true
  }
 },
 "nbformat": 4,
 "nbformat_minor": 5
}
