{
 "cells": [
  {
   "cell_type": "markdown",
   "id": "f6a542b7",
   "metadata": {},
   "source": [
    "# Fixed-Point Iteration for Non-Linear Equations"
   ]
  },
  {
   "cell_type": "markdown",
   "id": "7e1972a0",
   "metadata": {},
   "source": [
    "## Algorithm of the Fixed-Point Iteration Method"
   ]
  },
  {
   "cell_type": "markdown",
   "id": "a3a65d0c",
   "metadata": {},
   "source": [
    "The fixed-point iteration method in its application to the root finding problem can be shortly explained as follows. Consider an equation for which it is necessary to find roots:\n",
    "$$\n",
    "f(x) = 0 \\tag{1.1}\n",
    "$$\n",
    "To apply the fixed-point iteration method, we need to perform the steps:\n",
    "1. Transform (1.1) into the this:\n",
    "$$\n",
    "x = \\phi(x) \\tag{1.2}\n",
    "$$\n",
    "2. Define a start approximation to the root:\n",
    "$$\n",
    "x = x_0 \\tag{1.3}\n",
    "$$\n",
    "3. Peform iterations:\n",
    "$$\n",
    "x_{i+1} = \\phi(x_i), \\tag{1.4} \\\\\n",
    "i = 0,1,2,\\dots \n",
    "$$\n",
    "<br>\n",
    "4. Stop the iterative process (1.4) when necessary precision is acheived:\n",
    "$$\n",
    "|x_{i+1} - x_i| \\leq \\epsilon \\tag{1.5}\n",
    "$$"
   ]
  },
  {
   "cell_type": "markdown",
   "id": "58a5704a",
   "metadata": {},
   "source": [
    "*Note:* For simplicity reasons, we ommit the questions related to convergence of iterative process (1.1)-(1.5)."
   ]
  },
  {
   "cell_type": "markdown",
   "id": "22713692",
   "metadata": {},
   "source": [
    "# Example of Applying the Fixed-Point Iteration"
   ]
  },
  {
   "cell_type": "markdown",
   "id": "fcefec56",
   "metadata": {},
   "source": [
    "## Task Statement"
   ]
  },
  {
   "cell_type": "markdown",
   "id": "1cd4413d",
   "metadata": {},
   "source": [
    "Find roots of the following equation:\n",
    "$$\n",
    "\\cos{x} - x \\cdot e^x = 0 \\tag{2.1}\n",
    "$$"
   ]
  },
  {
   "cell_type": "markdown",
   "id": "0e1fc44f",
   "metadata": {},
   "source": [
    "## Solution"
   ]
  },
  {
   "cell_type": "markdown",
   "id": "0c3ea3db",
   "metadata": {},
   "source": [
    "### Preliminary Analysis"
   ]
  },
  {
   "cell_type": "markdown",
   "id": "164c17dd",
   "metadata": {},
   "source": [
    "Let's us build a graph of the function:\n",
    "$$\n",
    "f(x) = \\cos{x} - x \\cdot e^x \\tag{2.2}\n",
    "$$"
   ]
  },
  {
   "cell_type": "markdown",
   "id": "3f11611b",
   "metadata": {},
   "source": []
  },
  {
   "cell_type": "code",
   "execution_count": 2,
   "id": "0cdad268",
   "metadata": {},
   "outputs": [
    {
     "data": {
      "image/png": "[encoded data removed]",
      "text/plain": [
       "<Figure size 432x288 with 1 Axes>"
      ]
     },
     "metadata": {
      "needs_background": "light"
     },
     "output_type": "display_data"
    }
   ],
   "source": [
    "import numpy as np\n",
    "import matplotlib.pyplot as plt\n",
    "\n",
    "# generate an array of values\n",
    "# of the independent variable\n",
    "x = np.linspace(-3, 3, 100)\n",
    "\n",
    "# plot the right side\n",
    "plt.plot(x, np.cos(x) - x * np.exp(x))\n",
    "\n",
    "# show the plot\n",
    "plt.show()"
   ]
  },
  {
   "cell_type": "markdown",
   "id": "d68a7f7e",
   "metadata": {},
   "source": [
    "Let's improve the visualization in order to make it more convenient for analysis:"
   ]
  },
  {
   "cell_type": "code",
   "execution_count": 10,
   "id": "ce74bc2b",
   "metadata": {},
   "outputs": [
    {
     "data": {
      "image/png": "[encoded data removed]",
      "text/plain": [
       "<Figure size 432x288 with 1 Axes>"
      ]
     },
     "metadata": {
      "needs_background": "light"
     },
     "output_type": "display_data"
    }
   ],
   "source": [
    "import numpy as np\n",
    "import matplotlib.pyplot as plt\n",
    "\n",
    "\n",
    "# generate an array of values\n",
    "# of the independent variable\n",
    "x = np.linspace(-10, 10, 5000)\n",
    "\n",
    "ax = plt.gca()\n",
    "\n",
    "# Move left y-axis and bottim x-axis to centre, passing through (0,0)\n",
    "ax.spines['left'].set_position('zero')\n",
    "ax.spines['bottom'].set_position('zero')\n",
    "\n",
    "# Eliminate upper and right axes\n",
    "ax.spines['right'].set_color('none')\n",
    "ax.spines['top'].set_color('none')  \n",
    "\n",
    "# set range of the horizontal axis\n",
    "plt.xlim([-10, 10])    \n",
    "# set range of the vertical axis\n",
    "plt.ylim([-10, 10]) \n",
    "\n",
    "# plot the right side\n",
    "plt.plot(x, np.cos(x) - x * np.exp(x))\n",
    "\n",
    "# show the plot\n",
    "plt.show()"
   ]
  },
  {
   "cell_type": "markdown",
   "id": "f33181c7",
   "metadata": {},
   "source": [
    "### Transforming the Equation in to Fixed-Point Iterations Format"
   ]
  },
  {
   "cell_type": "markdown",
   "id": "1be85eb0",
   "metadata": {},
   "source": [
    "Let's transform the queation (2.1) \n",
    "$$\n",
    "\\cos{x} - x \\cdot e^x = 0 \\\\\n",
    "\\cos{x} = x \\cdot e^x \\\\\n",
    "x \\cdot e^x = \\cos{x} \\\\\n",
    "\\frac{1}{e^x} \\cdot x \\cdot e^x = \\frac{1}{e^x} \\cdot  \\cos{x} \\\\\n",
    "x \\cdot \\frac{e^x}{e^x} = \\frac{\\cos{x}}{e^x} \\\\\n",
    "$$\n",
    "<br>\n",
    "in the form required by the fixed-point interations method - $x = \\phi(x)$:\n",
    "$$\n",
    "x = \\frac{\\cos{x}}{e^x}\n",
    "$$"
   ]
  },
  {
   "cell_type": "markdown",
   "id": "13796296",
   "metadata": {},
   "source": [
    "### Visualization of Fixed-Point Iterations Functions"
   ]
  },
  {
   "cell_type": "markdown",
   "id": "3e5ecbfc",
   "metadata": {},
   "source": [
    "Let's visualize left \n",
    "$$\n",
    "g_1(x) = x\n",
    "$$\n",
    "and right\n",
    "$$\n",
    "g_2(x) = \\frac{\\cos{x}}{e^x}\n",
    "$$\n",
    "parts of the equation:"
   ]
  },
  {
   "cell_type": "code",
   "execution_count": 13,
   "id": "9b0f7c6f",
   "metadata": {},
   "outputs": [
    {
     "data": {
      "image/png": "[encoded data removed]",
      "text/plain": [
       "<Figure size 432x288 with 1 Axes>"
      ]
     },
     "metadata": {
      "needs_background": "light"
     },
     "output_type": "display_data"
    }
   ],
   "source": [
    "import numpy as np\n",
    "import matplotlib.pyplot as plt\n",
    "\n",
    "\n",
    "# generate an array of values\n",
    "# of the independent variable\n",
    "x = np.linspace(-3, 3, 100)\n",
    "\n",
    "# plot the left side\n",
    "plt.plot(x, x)\n",
    "# plot the right side\n",
    "plt.plot(x, np.cos(x) / np.exp(x))    \n",
    "    \n",
    "    \n",
    "ax = plt.gca()\n",
    "\n",
    "# Move left y-axis and bottim x-axis to centre, passing through (0,0)\n",
    "ax.spines['left'].set_position('zero')\n",
    "ax.spines['bottom'].set_position('zero')\n",
    "\n",
    "# Eliminate upper and right axes\n",
    "ax.spines['right'].set_color('none')\n",
    "ax.spines['top'].set_color('none')    \n",
    "    \n",
    "#ax.grid(True)\n",
    "\n",
    "# set range of the horizontal axis\n",
    "plt.xlim([-3, 3])    \n",
    "# set range of the vertical axis\n",
    "plt.ylim([-10, 3])    \n",
    "\n",
    "# show the plot\n",
    "plt.show()\n",
    "    "
   ]
  },
  {
   "cell_type": "markdown",
   "id": "aa889589",
   "metadata": {},
   "source": [
    "### Implementation of Fixed-Point Interations"
   ]
  },
  {
   "cell_type": "markdown",
   "id": "c3d837c5",
   "metadata": {},
   "source": [
    "#### Convergence"
   ]
  },
  {
   "cell_type": "markdown",
   "id": "ca47b756",
   "metadata": {},
   "source": [
    "As can be seen from the visualization above, the equation has 2 roots. To find the 1st of them let\n",
    "$$\n",
    "x_{0}^{1}=1\n",
    "$$\n",
    "and apply the fixed-point iteration method:"
   ]
  },
  {
   "cell_type": "code",
   "execution_count": 26,
   "id": "963919db",
   "metadata": {},
   "outputs": [
    {
     "name": "stdout",
     "output_type": "stream",
     "text": [
      "x1 = 1.00000000; x2 = 0.19876611; |x2 - x1| = 0.80123389\n",
      "x1 = 0.19876611; x2 = 0.80360168; |x2 - x1| = 0.60483557\n",
      "x1 = 0.80360168; x2 = 0.31076625; |x2 - x1| = 0.49283543\n",
      "x1 = 0.31076625; x2 = 0.69777963; |x2 - x1| = 0.38701338\n",
      "x1 = 0.69777963; x2 = 0.38136460; |x2 - x1| = 0.31641503\n",
      "x1 = 0.38136460; x2 = 0.63386561; |x2 - x1| = 0.25250101\n",
      "x1 = 0.63386561; x2 = 0.42747703; |x2 - x1| = 0.20638858\n",
      "x1 = 0.42747703; x2 = 0.59346819; |x2 - x1| = 0.16599116\n",
      "x1 = 0.59346819; x2 = 0.45794969; |x2 - x1| = 0.13551850\n",
      "x1 = 0.45794969; x2 = 0.56739886; |x2 - x1| = 0.10944917\n",
      "x1 = 0.56739886; x2 = 0.47815073; |x2 - x1| = 0.08924813\n",
      "x1 = 0.47815073; x2 = 0.55040210; |x2 - x1| = 0.07225137\n",
      "x1 = 0.55040210; x2 = 0.49154487; |x2 - x1| = 0.05885723\n",
      "x1 = 0.49154487; x2 = 0.53926061; |x2 - x1| = 0.04771573\n",
      "x1 = 0.53926061; x2 = 0.50041950; |x2 - x1| = 0.03884111\n",
      "x1 = 0.50041950; x2 = 0.53193550; |x2 - x1| = 0.03151600\n",
      "x1 = 0.53193550; x2 = 0.50629477; |x2 - x1| = 0.02564074\n",
      "x1 = 0.50629477; x2 = 0.52711126; |x2 - x1| = 0.02081649\n",
      "x1 = 0.52711126; x2 = 0.51018164; |x2 - x1| = 0.01692962\n",
      "x1 = 0.51018164; x2 = 0.52393079; |x2 - x1| = 0.01374915\n",
      "x1 = 0.52393079; x2 = 0.51275169; |x2 - x1| = 0.01117910\n",
      "x1 = 0.51275169; x2 = 0.52183268; |x2 - x1| = 0.00908099\n",
      "x1 = 0.52183268; x2 = 0.51445040; |x2 - x1| = 0.00738229\n",
      "x1 = 0.51445040; x2 = 0.52044805; |x2 - x1| = 0.00599765\n",
      "x1 = 0.52044805; x2 = 0.51557288; |x2 - x1| = 0.00487517\n",
      "x1 = 0.51557288; x2 = 0.51953403; |x2 - x1| = 0.00396115\n",
      "x1 = 0.51953403; x2 = 0.51631446; |x2 - x1| = 0.00321957\n",
      "x1 = 0.51631446; x2 = 0.51893058; |x2 - x1| = 0.00261612\n",
      "x1 = 0.51893058; x2 = 0.51680434; |x2 - x1| = 0.00212623\n",
      "x1 = 0.51680434; x2 = 0.51853212; |x2 - x1| = 0.00172778\n",
      "x1 = 0.51853212; x2 = 0.51712792; |x2 - x1| = 0.00140420\n",
      "x1 = 0.51712792; x2 = 0.51826901; |x2 - x1| = 0.00114108\n",
      "x1 = 0.51826901; x2 = 0.51734165; |x2 - x1| = 0.00092736\n",
      "x1 = 0.51734165; x2 = 0.51809525; |x2 - x1| = 0.00075361\n",
      "x1 = 0.51809525; x2 = 0.51748281; |x2 - x1| = 0.00061245\n",
      "x1 = 0.51748281; x2 = 0.51798051; |x2 - x1| = 0.00049770\n",
      "x1 = 0.51798051; x2 = 0.51757604; |x2 - x1| = 0.00040447\n",
      "x1 = 0.51757604; x2 = 0.51790473; |x2 - x1| = 0.00032870\n",
      "x1 = 0.51790473; x2 = 0.51763761; |x2 - x1| = 0.00026712\n",
      "x1 = 0.51763761; x2 = 0.51785469; |x2 - x1| = 0.00021708\n",
      "x1 = 0.51785469; x2 = 0.51767827; |x2 - x1| = 0.00017642\n",
      "x1 = 0.51767827; x2 = 0.51782164; |x2 - x1| = 0.00014337\n",
      "x1 = 0.51782164; x2 = 0.51770513; |x2 - x1| = 0.00011651\n",
      "x1 = 0.51770513; x2 = 0.51779981; |x2 - x1| = 0.00009468\n",
      "x1 = 0.51779981; x2 = 0.51772287; |x2 - x1| = 0.00007695\n",
      "x1 = 0.51772287; x2 = 0.51778540; |x2 - x1| = 0.00006253\n",
      "x1 = 0.51778540; x2 = 0.51773458; |x2 - x1| = 0.00005082\n",
      "x1 = 0.51773458; x2 = 0.51777588; |x2 - x1| = 0.00004130\n",
      "x1 = 0.51777588; x2 = 0.51774232; |x2 - x1| = 0.00003356\n",
      "x1 = 0.51774232; x2 = 0.51776959; |x2 - x1| = 0.00002727\n",
      "x1 = 0.51776959; x2 = 0.51774743; |x2 - x1| = 0.00002216\n",
      "x1 = 0.51774743; x2 = 0.51776544; |x2 - x1| = 0.00001801\n",
      "x1 = 0.51776544; x2 = 0.51775080; |x2 - x1| = 0.00001464\n",
      "x1 = 0.51775080; x2 = 0.51776270; |x2 - x1| = 0.00001190\n",
      "x1 = 0.51776270; x2 = 0.51775303; |x2 - x1| = 0.00000967\n",
      "x1 = 0.51775303; x2 = 0.51776089; |x2 - x1| = 0.00000786\n",
      "x1 = 0.51776089; x2 = 0.51775450; |x2 - x1| = 0.00000638\n",
      "x1 = 0.51775450; x2 = 0.51775969; |x2 - x1| = 0.00000519\n",
      "x1 = 0.51775969; x2 = 0.51775547; |x2 - x1| = 0.00000422\n",
      "x1 = 0.51775547; x2 = 0.51775890; |x2 - x1| = 0.00000343\n",
      "x1 = 0.51775890; x2 = 0.51775612; |x2 - x1| = 0.00000278\n",
      "x1 = 0.51775612; x2 = 0.51775838; |x2 - x1| = 0.00000226\n",
      "x1 = 0.51775838; x2 = 0.51775654; |x2 - x1| = 0.00000184\n",
      "x1 = 0.51775654; x2 = 0.51775803; |x2 - x1| = 0.00000149\n",
      "x1 = 0.51775803; x2 = 0.51775682; |x2 - x1| = 0.00000121\n",
      "x1 = 0.51775682; x2 = 0.51775781; |x2 - x1| = 0.00000099\n",
      "x = 0.51775781\n"
     ]
    }
   ],
   "source": [
    "# import the \"numpy\" library\n",
    "import numpy as np\n",
    "\n",
    "# accuracy (or precision)\n",
    "delta = 0.000001 #1e-6\n",
    "\n",
    "# starting point\n",
    "x1 = 1\n",
    "\n",
    "# perform the 1st iteration\n",
    "x2 = np.cos(x1) / np.exp(x1)\n",
    "\n",
    "print(\"x1 = {:.8f}; x2 = {:.8f}; |x2 - x1| = {:.8f}\".format(x1, x2, np.abs(x2 - x1)))\n",
    "\n",
    "# iterate unless the difference\n",
    "# between 2 subsequent values of x is less then delta\n",
    "while (np.abs(x2 - x1) > delta):    \n",
    "    x1 = x2\n",
    "    # perform next iteration\n",
    "    x2 = np.cos(x1) / np.exp(x1)\n",
    "    print(\"x1 = {:.8f}; x2 = {:.8f}; |x2 - x1| = {:.8f}\".format(x1, x2, np.abs(x2 - x1)))\n",
    "    \n",
    "print(\"x = {:.8f}\".format(x2))    "
   ]
  },
  {
   "cell_type": "markdown",
   "id": "35185eb3",
   "metadata": {},
   "source": [
    "#### Divergence"
   ]
  },
  {
   "cell_type": "markdown",
   "id": "924272c2",
   "metadata": {},
   "source": [
    "As can be seen from the visualization above, the equation has 2 roots. To find the 1st of them let\n",
    "$$\n",
    "x_{0}^{2}=-2\n",
    "$$\n",
    "and apply the fixed point iteration method:"
   ]
  },
  {
   "cell_type": "code",
   "execution_count": 28,
   "id": "2e8358c1",
   "metadata": {},
   "outputs": [
    {
     "name": "stdout",
     "output_type": "stream",
     "text": [
      "x1 = -2.00000000; x2 = -3.07493232; |x2 - x1| = 1.07493232\n",
      "x1 = -3.07493232; x2 = -21.60033607; |x2 - x1| = 18.52540375\n",
      "x1 = -21.60033607; x2 = -2222596259.22260523; |x2 - x1| = 2222596237.62226915\n",
      "x1 = -2222596259.22260523; x2 = inf; |x2 - x1| = inf\n",
      "x1 = inf; x2 = nan; |x2 - x1| = nan\n",
      "x = nan\n"
     ]
    },
    {
     "name": "stderr",
     "output_type": "stream",
     "text": [
      "<ipython-input-28-b3c0c9499c0f>:11: RuntimeWarning: divide by zero encountered in double_scalars\n",
      "  x2 = np.cos(x1) / np.exp(x1)\n",
      "<ipython-input-28-b3c0c9499c0f>:11: RuntimeWarning: invalid value encountered in cos\n",
      "  x2 = np.cos(x1) / np.exp(x1)\n"
     ]
    }
   ],
   "source": [
    "import numpy as np\n",
    "\n",
    "delta = 1e-6\n",
    "x1 = -2\n",
    "x2 = np.cos(x1) / np.exp(x1)\n",
    "\n",
    "print(\"x1 = {:.8f}; x2 = {:.8f}; |x2 - x1| = {:.8f}\".format(x1, x2, np.abs(x2 - x1)))\n",
    "\n",
    "while (np.abs(x2 - x1) > delta):\n",
    "    x1 = x2\n",
    "    x2 = np.cos(x1) / np.exp(x1)\n",
    "    print(\"x1 = {:.8f}; x2 = {:.8f}; |x2 - x1| = {:.8f}\".format(x1, x2, np.abs(x2 - x1)))\n",
    "    \n",
    "print(\"x = {:.8f}\".format(x2))    "
   ]
  },
  {
   "cell_type": "markdown",
   "id": "154cdbc6",
   "metadata": {},
   "source": [
    "## Conclusions"
   ]
  },
  {
   "cell_type": "markdown",
   "id": "65e0522c",
   "metadata": {},
   "source": []
  }
 ],
 "metadata": {
  "kernelspec": {
   "display_name": "Python 3",
   "language": "python",
   "name": "python3"
  },
  "language_info": {
   "codemirror_mode": {
    "name": "ipython",
    "version": 3
   },
   "file_extension": ".py",
   "mimetype": "text/x-python",
   "name": "python",
   "nbconvert_exporter": "python",
   "pygments_lexer": "ipython3",
   "version": "3.8.8"
  },
  "toc": {
   "base_numbering": 1,
   "nav_menu": {},
   "number_sections": true,
   "sideBar": true,
   "skip_h1_title": false,
   "title_cell": "Table of Contents",
   "title_sidebar": "Contents",
   "toc_cell": false,
   "toc_position": {},
   "toc_section_display": true,
   "toc_window_display": true
  }
 },
 "nbformat": 4,
 "nbformat_minor": 5
}
